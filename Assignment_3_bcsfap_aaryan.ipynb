{
  "nbformat": 4,
  "nbformat_minor": 0,
  "metadata": {
    "colab": {
      "provenance": [],
      "authorship_tag": "ABX9TyNqyOjWrhWRtWwJPT57anHo",
      "include_colab_link": true
    },
    "kernelspec": {
      "name": "python3",
      "display_name": "Python 3"
    },
    "language_info": {
      "name": "python"
    }
  },
  "cells": [
    {
      "cell_type": "markdown",
      "metadata": {
        "id": "view-in-github",
        "colab_type": "text"
      },
      "source": [
        "<a href=\"https://colab.research.google.com/github/Aaryan24/bcs-fap-1/blob/main/Assignment_3_bcsfap_aaryan.ipynb\" target=\"_parent\"><img src=\"https://colab.research.google.com/assets/colab-badge.svg\" alt=\"Open In Colab\"/></a>"
      ]
    },
    {
      "cell_type": "code",
      "source": [
        "!apt-get update\n",
        "!apt-get install -y python-opengl\n",
        "!apt-get install -y swig\n",
        "!pip install gymnasium[box2d]"
      ],
      "metadata": {
        "colab": {
          "base_uri": "https://localhost:8080/"
        },
        "id": "Pm8xOMCjbI2R",
        "outputId": "ab1949d0-c217-4be0-bbd3-3d573b5e2cc4"
      },
      "execution_count": null,
      "outputs": [
        {
          "output_type": "stream",
          "name": "stdout",
          "text": [
            "Get:1 http://security.ubuntu.com/ubuntu jammy-security InRelease [129 kB]\n",
            "Hit:2 https://cloud.r-project.org/bin/linux/ubuntu jammy-cran40/ InRelease\n",
            "Hit:3 https://developer.download.nvidia.com/compute/cuda/repos/ubuntu2204/x86_64  InRelease\n",
            "Hit:4 https://r2u.stat.illinois.edu/ubuntu jammy InRelease\n",
            "Hit:5 http://archive.ubuntu.com/ubuntu jammy InRelease\n",
            "Get:6 http://archive.ubuntu.com/ubuntu jammy-updates InRelease [128 kB]\n",
            "Hit:7 https://ppa.launchpadcontent.net/deadsnakes/ppa/ubuntu jammy InRelease\n",
            "Hit:8 https://ppa.launchpadcontent.net/graphics-drivers/ppa/ubuntu jammy InRelease\n",
            "Hit:9 https://ppa.launchpadcontent.net/ubuntugis/ppa/ubuntu jammy InRelease\n",
            "Get:10 http://archive.ubuntu.com/ubuntu jammy-backports InRelease [127 kB]\n",
            "Fetched 384 kB in 1s (272 kB/s)\n",
            "Reading package lists... Done\n",
            "W: Skipping acquire of configured file 'main/source/Sources' as repository 'https://r2u.stat.illinois.edu/ubuntu jammy InRelease' does not seem to provide it (sources.list entry misspelt?)\n",
            "Reading package lists... Done\n",
            "Building dependency tree... Done\n",
            "Reading state information... Done\n",
            "E: Unable to locate package python-opengl\n",
            "Reading package lists... Done\n",
            "Building dependency tree... Done\n",
            "Reading state information... Done\n",
            "swig is already the newest version (4.0.2-1ubuntu1).\n",
            "0 upgraded, 0 newly installed, 0 to remove and 50 not upgraded.\n",
            "Requirement already satisfied: gymnasium[box2d] in /usr/local/lib/python3.10/dist-packages (1.0.0)\n",
            "Requirement already satisfied: numpy>=1.21.0 in /usr/local/lib/python3.10/dist-packages (from gymnasium[box2d]) (1.26.4)\n",
            "Requirement already satisfied: cloudpickle>=1.2.0 in /usr/local/lib/python3.10/dist-packages (from gymnasium[box2d]) (3.1.0)\n",
            "Requirement already satisfied: typing-extensions>=4.3.0 in /usr/local/lib/python3.10/dist-packages (from gymnasium[box2d]) (4.12.2)\n",
            "Requirement already satisfied: farama-notifications>=0.0.1 in /usr/local/lib/python3.10/dist-packages (from gymnasium[box2d]) (0.0.4)\n",
            "Requirement already satisfied: box2d-py==2.3.5 in /usr/local/lib/python3.10/dist-packages (from gymnasium[box2d]) (2.3.5)\n",
            "Requirement already satisfied: pygame>=2.1.3 in /usr/local/lib/python3.10/dist-packages (from gymnasium[box2d]) (2.6.1)\n",
            "Requirement already satisfied: swig==4.* in /usr/local/lib/python3.10/dist-packages (from gymnasium[box2d]) (4.3.0)\n"
          ]
        }
      ]
    },
    {
      "cell_type": "code",
      "source": [
        "import gymnasium as gym\n",
        "import torch\n",
        "import torch.nn as nn\n",
        "import random\n",
        "import matplotlib.pyplot as plt\n",
        "import numpy as np\n",
        "from IPython.display import clear_output, HTML, display\n",
        "import imageio\n",
        "from PIL import Image\n",
        "import os"
      ],
      "metadata": {
        "id": "k7bYIQidb7qC"
      },
      "execution_count": null,
      "outputs": []
    },
    {
      "cell_type": "code",
      "source": [
        "#game environment\n",
        "env = gym.make(\"LunarLander-v3\", render_mode=\"rgb_array\")\n",
        "\n",
        "#GIF\n",
        "def save_and_display_gif(frames, title=\"lunar_lander_episode.gif\"):\n",
        "    resized_frames = [Image.fromarray(frame).resize((640, 400)) for frame in frames]\n",
        "    gif_file = os.path.join(\"./\", title)\n",
        "    imageio.mimsave(gif_file, resized_frames, fps=30)\n",
        "\n",
        "    if os.path.exists(gif_file):\n",
        "        return HTML(f\"\"\"\n",
        "        <h3>{title}</h3>\n",
        "        <img src=\"{gif_file}\" alt=\"{title}\" style=\"width:640px;height:400px;\"/>\n",
        "        \"\"\")\n",
        "    else:\n",
        "        print(\"GIF file could not be created.\")\n",
        "        return None\n",
        "\n",
        "class MyNetwork(nn.Module):\n",
        "    def __init__(self):\n",
        "        super(MyNetwork, self).__init__()\n",
        "        self.layer1 = nn.Linear(8, 64)\n",
        "        self.layer2 = nn.Linear(64, 4)\n",
        "\n",
        "    def forward(self, x):\n",
        "        x = torch.relu(self.layer1(x))\n",
        "        return self.layer2(x)\n",
        "\n",
        "brain = MyNetwork()\n",
        "optimizer = torch.optim.Adam(brain.parameters(), lr=0.001)\n",
        "\n",
        "memories = []\n",
        "MAX_MEMORY = 1000\n",
        "\n",
        "all_rewards = []\n",
        "episode_count = 1000\n",
        "\n",
        "BATCH_SIZE = 32\n",
        "GAMMA = 0.99\n",
        "epsilon = 1.0\n",
        "\n",
        "for episode in range(episode_count):\n",
        "    state, _ = env.reset()\n",
        "    done = False\n",
        "    total_reward = 0\n",
        "    steps = 0\n",
        "    frames = []\n",
        "\n",
        "    while not done:\n",
        "        if random.random() < epsilon:\n",
        "            action = env.action_space.sample()\n",
        "        else:\n",
        "            state_tensor = torch.FloatTensor(state)\n",
        "            with torch.no_grad():\n",
        "                action = brain(state_tensor).argmax().item()\n",
        "\n",
        "        next_state, reward, terminated, truncated, _ = env.step(action)\n",
        "        done = terminated or truncated\n",
        "        total_reward += reward\n",
        "\n",
        "        if episode % 50 == 0:\n",
        "            frames.append(env.render())\n",
        "\n",
        "        memories.append((state, action, reward, next_state, done))\n",
        "        if len(memories) > MAX_MEMORY:\n",
        "            memories.pop(0)\n",
        "\n",
        "        if len(memories) >= BATCH_SIZE:\n",
        "            batch = random.sample(memories, BATCH_SIZE)\n",
        "\n",
        "            states = torch.FloatTensor([x[0] for x in batch])\n",
        "            actions = torch.LongTensor([x[1] for x in batch])\n",
        "            rewards = torch.FloatTensor([x[2] for x in batch])\n",
        "            next_states = torch.FloatTensor([x[3] for x in batch])\n",
        "            dones = torch.FloatTensor([x[4] for x in batch])\n",
        "\n",
        "            current_q = brain(states).gather(1, actions.unsqueeze(1))\n",
        "            next_q = brain(next_states).max(1)[0].detach()\n",
        "            target_q = rewards + GAMMA * next_q * (1 - dones)\n",
        "\n",
        "            loss = nn.MSELoss()(current_q.squeeze(), target_q)\n",
        "            optimizer.zero_grad()\n",
        "            loss.backward()\n",
        "            optimizer.step()\n",
        "\n",
        "        state = next_state\n",
        "        steps += 1\n",
        "\n",
        "    if episode % 50 == 0 and frames:\n",
        "        gif_html = save_and_display_gif(frames, title=f\"Episode_{episode}.gif\")\n",
        "        if gif_html:\n",
        "            display(gif_html)\n",
        "\n",
        "    epsilon = max(0.01, epsilon * 0.995)\n",
        "\n",
        "    all_rewards.append(total_reward)\n",
        "\n",
        "    if episode % 10 == 0:\n",
        "        avg_reward = np.mean(all_rewards[-10:])\n",
        "        print(f\"Episode {episode}, Average Reward: {avg_reward:.2f}, Epsilon: {epsilon:.2f}\")\n",
        "\n",
        "plt.figure(figsize=(10, 5))\n",
        "plt.plot(all_rewards)\n",
        "plt.title('Training Progress')\n",
        "plt.xlabel('Episode')\n",
        "plt.ylabel('Total Reward')\n",
        "plt.show()"
      ],
      "metadata": {
        "colab": {
          "resources": {
            "http://localhost:8080/Episode_0.gif": {
              "data": "",
              "ok": false,
              "headers": [
                [
                  "content-length",
                  "0"
                ]
              ],
              "status": 404,
              "status_text": ""
            },
            "http://localhost:8080/Episode_50.gif": {
              "data": "",
              "ok": false,
              "headers": [
                [
                  "content-length",
                  "0"
                ]
              ],
              "status": 404,
              "status_text": ""
            },
            "http://localhost:8080/Episode_100.gif": {
              "data": "",
              "ok": false,
              "headers": [
                [
                  "content-length",
                  "0"
                ]
              ],
              "status": 404,
              "status_text": ""
            }
          },
          "base_uri": "https://localhost:8080/",
          "height": 1000
        },
        "id": "yqL30R4EcDvz",
        "outputId": "887f0e9e-2494-4590-e93f-8c7bb3e8e05f"
      },
      "execution_count": null,
      "outputs": [
        {
          "output_type": "stream",
          "name": "stderr",
          "text": [
            "<ipython-input-3-62124cf1bf44>:72: UserWarning: Creating a tensor from a list of numpy.ndarrays is extremely slow. Please consider converting the list to a single numpy.ndarray with numpy.array() before converting to a tensor. (Triggered internally at ../torch/csrc/utils/tensor_new.cpp:278.)\n",
            "  states = torch.FloatTensor([x[0] for x in batch])\n"
          ]
        },
        {
          "output_type": "display_data",
          "data": {
            "text/plain": [
              "<IPython.core.display.HTML object>"
            ],
            "text/html": [
              "\n",
              "        <h3>Episode_0.gif</h3>\n",
              "        <img src=\"./Episode_0.gif\" alt=\"Episode_0.gif\" style=\"width:640px;height:400px;\"/>\n",
              "        "
            ]
          },
          "metadata": {}
        },
        {
          "output_type": "stream",
          "name": "stdout",
          "text": [
            "Episode 0, Average Reward: -127.35, Epsilon: 0.99\n",
            "Episode 10, Average Reward: -218.86, Epsilon: 0.95\n",
            "Episode 20, Average Reward: -237.85, Epsilon: 0.90\n",
            "Episode 30, Average Reward: -154.97, Epsilon: 0.86\n",
            "Episode 40, Average Reward: -146.70, Epsilon: 0.81\n"
          ]
        },
        {
          "output_type": "display_data",
          "data": {
            "text/plain": [
              "<IPython.core.display.HTML object>"
            ],
            "text/html": [
              "\n",
              "        <h3>Episode_50.gif</h3>\n",
              "        <img src=\"./Episode_50.gif\" alt=\"Episode_50.gif\" style=\"width:640px;height:400px;\"/>\n",
              "        "
            ]
          },
          "metadata": {}
        },
        {
          "output_type": "stream",
          "name": "stdout",
          "text": [
            "Episode 50, Average Reward: -165.73, Epsilon: 0.77\n",
            "Episode 60, Average Reward: -107.56, Epsilon: 0.74\n",
            "Episode 70, Average Reward: -183.47, Epsilon: 0.70\n",
            "Episode 80, Average Reward: -113.98, Epsilon: 0.67\n",
            "Episode 90, Average Reward: -101.05, Epsilon: 0.63\n"
          ]
        },
        {
          "output_type": "display_data",
          "data": {
            "text/plain": [
              "<IPython.core.display.HTML object>"
            ],
            "text/html": [
              "\n",
              "        <h3>Episode_100.gif</h3>\n",
              "        <img src=\"./Episode_100.gif\" alt=\"Episode_100.gif\" style=\"width:640px;height:400px;\"/>\n",
              "        "
            ]
          },
          "metadata": {}
        },
        {
          "output_type": "stream",
          "name": "stdout",
          "text": [
            "Episode 100, Average Reward: -185.82, Epsilon: 0.60\n",
            "Episode 110, Average Reward: -122.38, Epsilon: 0.57\n",
            "Episode 120, Average Reward: -148.08, Epsilon: 0.55\n",
            "Episode 130, Average Reward: -154.05, Epsilon: 0.52\n",
            "Episode 140, Average Reward: -144.80, Epsilon: 0.49\n"
          ]
        },
        {
          "output_type": "display_data",
          "data": {
            "text/plain": [
              "<IPython.core.display.HTML object>"
            ],
            "text/html": [
              "\n",
              "        <h3>Episode_150.gif</h3>\n",
              "        <img src=\"./Episode_150.gif\" alt=\"Episode_150.gif\" style=\"width:640px;height:400px;\"/>\n",
              "        "
            ]
          },
          "metadata": {}
        },
        {
          "output_type": "stream",
          "name": "stdout",
          "text": [
            "Episode 150, Average Reward: -197.07, Epsilon: 0.47\n",
            "Episode 160, Average Reward: -128.09, Epsilon: 0.45\n",
            "Episode 170, Average Reward: -109.67, Epsilon: 0.42\n",
            "Episode 180, Average Reward: -85.43, Epsilon: 0.40\n",
            "Episode 190, Average Reward: -41.85, Epsilon: 0.38\n"
          ]
        },
        {
          "output_type": "display_data",
          "data": {
            "text/plain": [
              "<IPython.core.display.HTML object>"
            ],
            "text/html": [
              "\n",
              "        <h3>Episode_200.gif</h3>\n",
              "        <img src=\"./Episode_200.gif\" alt=\"Episode_200.gif\" style=\"width:640px;height:400px;\"/>\n",
              "        "
            ]
          },
          "metadata": {}
        },
        {
          "output_type": "stream",
          "name": "stdout",
          "text": [
            "Episode 200, Average Reward: -1.34, Epsilon: 0.37\n",
            "Episode 210, Average Reward: -97.77, Epsilon: 0.35\n",
            "Episode 220, Average Reward: -96.17, Epsilon: 0.33\n",
            "Episode 230, Average Reward: -47.15, Epsilon: 0.31\n",
            "Episode 240, Average Reward: -117.05, Epsilon: 0.30\n"
          ]
        },
        {
          "output_type": "display_data",
          "data": {
            "text/plain": [
              "<IPython.core.display.HTML object>"
            ],
            "text/html": [
              "\n",
              "        <h3>Episode_250.gif</h3>\n",
              "        <img src=\"./Episode_250.gif\" alt=\"Episode_250.gif\" style=\"width:640px;height:400px;\"/>\n",
              "        "
            ]
          },
          "metadata": {}
        },
        {
          "output_type": "stream",
          "name": "stdout",
          "text": [
            "Episode 250, Average Reward: -108.14, Epsilon: 0.28\n",
            "Episode 260, Average Reward: -197.42, Epsilon: 0.27\n",
            "Episode 270, Average Reward: -212.73, Epsilon: 0.26\n",
            "Episode 280, Average Reward: -166.37, Epsilon: 0.24\n",
            "Episode 290, Average Reward: -123.03, Epsilon: 0.23\n"
          ]
        },
        {
          "output_type": "display_data",
          "data": {
            "text/plain": [
              "<IPython.core.display.HTML object>"
            ],
            "text/html": [
              "\n",
              "        <h3>Episode_300.gif</h3>\n",
              "        <img src=\"./Episode_300.gif\" alt=\"Episode_300.gif\" style=\"width:640px;height:400px;\"/>\n",
              "        "
            ]
          },
          "metadata": {}
        },
        {
          "output_type": "stream",
          "name": "stdout",
          "text": [
            "Episode 300, Average Reward: 2.80, Epsilon: 0.22\n",
            "Episode 310, Average Reward: -60.97, Epsilon: 0.21\n",
            "Episode 320, Average Reward: -55.86, Epsilon: 0.20\n",
            "Episode 330, Average Reward: -133.70, Epsilon: 0.19\n",
            "Episode 340, Average Reward: -48.05, Epsilon: 0.18\n"
          ]
        },
        {
          "output_type": "display_data",
          "data": {
            "text/plain": [
              "<IPython.core.display.HTML object>"
            ],
            "text/html": [
              "\n",
              "        <h3>Episode_350.gif</h3>\n",
              "        <img src=\"./Episode_350.gif\" alt=\"Episode_350.gif\" style=\"width:640px;height:400px;\"/>\n",
              "        "
            ]
          },
          "metadata": {}
        },
        {
          "output_type": "stream",
          "name": "stdout",
          "text": [
            "Episode 350, Average Reward: -45.15, Epsilon: 0.17\n",
            "Episode 360, Average Reward: 30.66, Epsilon: 0.16\n",
            "Episode 370, Average Reward: 8.06, Epsilon: 0.16\n",
            "Episode 380, Average Reward: -51.53, Epsilon: 0.15\n",
            "Episode 390, Average Reward: -247.40, Epsilon: 0.14\n"
          ]
        },
        {
          "output_type": "display_data",
          "data": {
            "text/plain": [
              "<IPython.core.display.HTML object>"
            ],
            "text/html": [
              "\n",
              "        <h3>Episode_400.gif</h3>\n",
              "        <img src=\"./Episode_400.gif\" alt=\"Episode_400.gif\" style=\"width:640px;height:400px;\"/>\n",
              "        "
            ]
          },
          "metadata": {}
        },
        {
          "output_type": "stream",
          "name": "stdout",
          "text": [
            "Episode 400, Average Reward: -111.91, Epsilon: 0.13\n",
            "Episode 410, Average Reward: -40.75, Epsilon: 0.13\n",
            "Episode 420, Average Reward: -76.83, Epsilon: 0.12\n",
            "Episode 430, Average Reward: -63.42, Epsilon: 0.12\n",
            "Episode 440, Average Reward: 67.02, Epsilon: 0.11\n"
          ]
        },
        {
          "output_type": "display_data",
          "data": {
            "text/plain": [
              "<IPython.core.display.HTML object>"
            ],
            "text/html": [
              "\n",
              "        <h3>Episode_450.gif</h3>\n",
              "        <img src=\"./Episode_450.gif\" alt=\"Episode_450.gif\" style=\"width:640px;height:400px;\"/>\n",
              "        "
            ]
          },
          "metadata": {}
        },
        {
          "output_type": "stream",
          "name": "stdout",
          "text": [
            "Episode 450, Average Reward: 110.17, Epsilon: 0.10\n",
            "Episode 460, Average Reward: 60.30, Epsilon: 0.10\n",
            "Episode 470, Average Reward: 41.06, Epsilon: 0.09\n",
            "Episode 480, Average Reward: 26.67, Epsilon: 0.09\n",
            "Episode 490, Average Reward: -39.09, Epsilon: 0.09\n"
          ]
        },
        {
          "output_type": "display_data",
          "data": {
            "text/plain": [
              "<IPython.core.display.HTML object>"
            ],
            "text/html": [
              "\n",
              "        <h3>Episode_500.gif</h3>\n",
              "        <img src=\"./Episode_500.gif\" alt=\"Episode_500.gif\" style=\"width:640px;height:400px;\"/>\n",
              "        "
            ]
          },
          "metadata": {}
        },
        {
          "output_type": "stream",
          "name": "stdout",
          "text": [
            "Episode 500, Average Reward: -109.46, Epsilon: 0.08\n",
            "Episode 510, Average Reward: -161.87, Epsilon: 0.08\n",
            "Episode 520, Average Reward: -126.47, Epsilon: 0.07\n",
            "Episode 530, Average Reward: -162.22, Epsilon: 0.07\n",
            "Episode 540, Average Reward: -84.27, Epsilon: 0.07\n"
          ]
        },
        {
          "output_type": "display_data",
          "data": {
            "text/plain": [
              "<IPython.core.display.HTML object>"
            ],
            "text/html": [
              "\n",
              "        <h3>Episode_550.gif</h3>\n",
              "        <img src=\"./Episode_550.gif\" alt=\"Episode_550.gif\" style=\"width:640px;height:400px;\"/>\n",
              "        "
            ]
          },
          "metadata": {}
        },
        {
          "output_type": "stream",
          "name": "stdout",
          "text": [
            "Episode 550, Average Reward: -64.79, Epsilon: 0.06\n",
            "Episode 560, Average Reward: -71.26, Epsilon: 0.06\n",
            "Episode 570, Average Reward: 41.84, Epsilon: 0.06\n",
            "Episode 580, Average Reward: 70.20, Epsilon: 0.05\n",
            "Episode 590, Average Reward: 153.04, Epsilon: 0.05\n"
          ]
        },
        {
          "output_type": "display_data",
          "data": {
            "text/plain": [
              "<IPython.core.display.HTML object>"
            ],
            "text/html": [
              "\n",
              "        <h3>Episode_600.gif</h3>\n",
              "        <img src=\"./Episode_600.gif\" alt=\"Episode_600.gif\" style=\"width:640px;height:400px;\"/>\n",
              "        "
            ]
          },
          "metadata": {}
        },
        {
          "output_type": "stream",
          "name": "stdout",
          "text": [
            "Episode 600, Average Reward: 105.48, Epsilon: 0.05\n",
            "Episode 610, Average Reward: -151.38, Epsilon: 0.05\n",
            "Episode 620, Average Reward: -75.08, Epsilon: 0.04\n",
            "Episode 630, Average Reward: 24.95, Epsilon: 0.04\n",
            "Episode 640, Average Reward: 179.24, Epsilon: 0.04\n"
          ]
        },
        {
          "output_type": "display_data",
          "data": {
            "text/plain": [
              "<IPython.core.display.HTML object>"
            ],
            "text/html": [
              "\n",
              "        <h3>Episode_650.gif</h3>\n",
              "        <img src=\"./Episode_650.gif\" alt=\"Episode_650.gif\" style=\"width:640px;height:400px;\"/>\n",
              "        "
            ]
          },
          "metadata": {}
        },
        {
          "output_type": "stream",
          "name": "stdout",
          "text": [
            "Episode 650, Average Reward: 196.55, Epsilon: 0.04\n",
            "Episode 660, Average Reward: 23.61, Epsilon: 0.04\n",
            "Episode 670, Average Reward: -82.01, Epsilon: 0.03\n",
            "Episode 680, Average Reward: -139.47, Epsilon: 0.03\n",
            "Episode 690, Average Reward: 59.20, Epsilon: 0.03\n"
          ]
        },
        {
          "output_type": "display_data",
          "data": {
            "text/plain": [
              "<IPython.core.display.HTML object>"
            ],
            "text/html": [
              "\n",
              "        <h3>Episode_700.gif</h3>\n",
              "        <img src=\"./Episode_700.gif\" alt=\"Episode_700.gif\" style=\"width:640px;height:400px;\"/>\n",
              "        "
            ]
          },
          "metadata": {}
        },
        {
          "output_type": "stream",
          "name": "stdout",
          "text": [
            "Episode 700, Average Reward: 17.25, Epsilon: 0.03\n",
            "Episode 710, Average Reward: -39.08, Epsilon: 0.03\n",
            "Episode 720, Average Reward: -0.98, Epsilon: 0.03\n",
            "Episode 730, Average Reward: 145.85, Epsilon: 0.03\n",
            "Episode 740, Average Reward: -0.87, Epsilon: 0.02\n"
          ]
        },
        {
          "output_type": "display_data",
          "data": {
            "text/plain": [
              "<IPython.core.display.HTML object>"
            ],
            "text/html": [
              "\n",
              "        <h3>Episode_750.gif</h3>\n",
              "        <img src=\"./Episode_750.gif\" alt=\"Episode_750.gif\" style=\"width:640px;height:400px;\"/>\n",
              "        "
            ]
          },
          "metadata": {}
        },
        {
          "output_type": "stream",
          "name": "stdout",
          "text": [
            "Episode 750, Average Reward: -171.00, Epsilon: 0.02\n",
            "Episode 760, Average Reward: -188.46, Epsilon: 0.02\n",
            "Episode 770, Average Reward: -163.56, Epsilon: 0.02\n",
            "Episode 780, Average Reward: -227.63, Epsilon: 0.02\n",
            "Episode 790, Average Reward: -244.49, Epsilon: 0.02\n"
          ]
        },
        {
          "output_type": "display_data",
          "data": {
            "text/plain": [
              "<IPython.core.display.HTML object>"
            ],
            "text/html": [
              "\n",
              "        <h3>Episode_800.gif</h3>\n",
              "        <img src=\"./Episode_800.gif\" alt=\"Episode_800.gif\" style=\"width:640px;height:400px;\"/>\n",
              "        "
            ]
          },
          "metadata": {}
        },
        {
          "output_type": "stream",
          "name": "stdout",
          "text": [
            "Episode 800, Average Reward: -275.17, Epsilon: 0.02\n",
            "Episode 810, Average Reward: -254.15, Epsilon: 0.02\n",
            "Episode 820, Average Reward: -168.82, Epsilon: 0.02\n",
            "Episode 830, Average Reward: -246.56, Epsilon: 0.02\n",
            "Episode 840, Average Reward: -308.85, Epsilon: 0.01\n"
          ]
        },
        {
          "output_type": "display_data",
          "data": {
            "text/plain": [
              "<IPython.core.display.HTML object>"
            ],
            "text/html": [
              "\n",
              "        <h3>Episode_850.gif</h3>\n",
              "        <img src=\"./Episode_850.gif\" alt=\"Episode_850.gif\" style=\"width:640px;height:400px;\"/>\n",
              "        "
            ]
          },
          "metadata": {}
        },
        {
          "output_type": "stream",
          "name": "stdout",
          "text": [
            "Episode 850, Average Reward: -393.09, Epsilon: 0.01\n",
            "Episode 860, Average Reward: -355.16, Epsilon: 0.01\n",
            "Episode 870, Average Reward: -195.79, Epsilon: 0.01\n",
            "Episode 880, Average Reward: -205.29, Epsilon: 0.01\n",
            "Episode 890, Average Reward: -140.62, Epsilon: 0.01\n"
          ]
        },
        {
          "output_type": "display_data",
          "data": {
            "text/plain": [
              "<IPython.core.display.HTML object>"
            ],
            "text/html": [
              "\n",
              "        <h3>Episode_900.gif</h3>\n",
              "        <img src=\"./Episode_900.gif\" alt=\"Episode_900.gif\" style=\"width:640px;height:400px;\"/>\n",
              "        "
            ]
          },
          "metadata": {}
        },
        {
          "output_type": "stream",
          "name": "stdout",
          "text": [
            "Episode 900, Average Reward: -83.85, Epsilon: 0.01\n",
            "Episode 910, Average Reward: -46.71, Epsilon: 0.01\n",
            "Episode 920, Average Reward: -1.21, Epsilon: 0.01\n",
            "Episode 930, Average Reward: -41.28, Epsilon: 0.01\n",
            "Episode 940, Average Reward: -79.18, Epsilon: 0.01\n"
          ]
        },
        {
          "output_type": "display_data",
          "data": {
            "text/plain": [
              "<IPython.core.display.HTML object>"
            ],
            "text/html": [
              "\n",
              "        <h3>Episode_950.gif</h3>\n",
              "        <img src=\"./Episode_950.gif\" alt=\"Episode_950.gif\" style=\"width:640px;height:400px;\"/>\n",
              "        "
            ]
          },
          "metadata": {}
        },
        {
          "output_type": "stream",
          "name": "stdout",
          "text": [
            "Episode 950, Average Reward: 61.29, Epsilon: 0.01\n",
            "Episode 960, Average Reward: -16.29, Epsilon: 0.01\n",
            "Episode 970, Average Reward: -101.09, Epsilon: 0.01\n",
            "Episode 980, Average Reward: 35.36, Epsilon: 0.01\n",
            "Episode 990, Average Reward: 15.53, Epsilon: 0.01\n"
          ]
        },
        {
          "output_type": "display_data",
          "data": {
            "text/plain": [
              "<Figure size 1000x500 with 1 Axes>"
            ],
            "image/png": "[encoded data removed]"
          },
          "metadata": {}
        }
      ]
    }
  ]
}